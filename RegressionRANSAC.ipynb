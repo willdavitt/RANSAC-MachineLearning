{
 "cells": [
  {
   "cell_type": "markdown",
   "metadata": {},
   "source": [
    "## Linear Regression and RANSAC"
   ]
  },
  {
   "cell_type": "raw",
   "metadata": {},
   "source": [
    "This example is adapted from: https://scikit-learn.org/stable/auto_examples/linear_model/plot_ransac.html"
   ]
  },
  {
   "cell_type": "code",
   "execution_count": 1,
   "metadata": {},
   "outputs": [],
   "source": [
    "# Load the modules we need\n",
    "import numpy as np\n",
    "import random\n",
    "from numpy.linalg import inv\n",
    "from matplotlib import pyplot as plt\n",
    "from sklearn import linear_model, datasets"
   ]
  },
  {
   "cell_type": "code",
   "execution_count": 2,
   "metadata": {},
   "outputs": [],
   "source": [
    "#  Create some intial data\n",
    "n_samples = 1000\n",
    "\n",
    "X, y = datasets.make_regression(n_samples=n_samples, n_features=1,\n",
    "                                      n_informative=1, noise=10,\n",
    "                                      random_state=0)"
   ]
  },
  {
   "cell_type": "code",
   "execution_count": 3,
   "metadata": {},
   "outputs": [],
   "source": [
    "# Add some outlier data\n",
    "np.random.seed(0)\n",
    "n_outliers = 50\n",
    "X[:n_outliers] = 3 + 0.5 * np.random.normal(size=(n_outliers, 1))\n",
    "y[:n_outliers] = -3 + 10 * np.random.normal(size=n_outliers)"
   ]
  },
  {
   "cell_type": "code",
   "execution_count": 4,
   "metadata": {},
   "outputs": [],
   "source": [
    "# Create some test positions for for the lines we will draw\n",
    "line_X = np.arange(X.min(), X.max())[:, np.newaxis]"
   ]
  },
  {
   "cell_type": "code",
   "execution_count": 5,
   "metadata": {},
   "outputs": [
    {
     "name": "stdout",
     "output_type": "stream",
     "text": [
      "[75479.19544988]\n",
      "[1412.97785864]\n",
      "[113.72007312]\n",
      "-3205.981248354341\n",
      "1000\n",
      "[[54.17236387]\n",
      " [-9.36646643]]\n",
      "[[54.17236387]]\n",
      "[[-9.36646643]]\n"
     ]
    }
   ],
   "source": [
    "# This is the cell you need to replace to complete Task 2.\n",
    "# Fit line using all data.\n",
    " #Linear Regression\n",
    "def bestFit(XData, yData):\n",
    "    alpha = 0\n",
    "    beta = 0\n",
    "    gamma = 0\n",
    "    delta = 0\n",
    "\n",
    "    for ix, x in enumerate(XData):\n",
    "        alpha = alpha + XData[ix]*yData[ix]\n",
    "        beta = beta + XData[ix]*XData[ix]\n",
    "        gamma = gamma + XData[ix]\n",
    "        delta = delta + yData[ix]\n",
    "\n",
    "    print(alpha)\n",
    "    print(beta)\n",
    "    print(gamma)\n",
    "    print(delta)\n",
    "    n = len(XData)\n",
    "    print(n)\n",
    "\n",
    "    a = np.matrix([[beta,gamma],[gamma,n]],dtype='float')\n",
    "    b = np.matrix([[alpha],[delta]],dtype='float')\n",
    "    o = inv(a)*b\n",
    "\n",
    "    m=o[0][0]\n",
    "    c=o[1][0]\n",
    "    print(o)\n",
    "    print(m)\n",
    "    print(c)\n",
    "    return m,c\n",
    "\n",
    "#Calculate equation of line\n",
    "equation = bestFit(X,y)\n",
    "line_y = line_X.dot(equation[0])\n",
    "for ly in line_y:\n",
    "    ly=ly+equation[1]\n"
   ]
  },
  {
   "cell_type": "code",
   "execution_count": 6,
   "metadata": {},
   "outputs": [
    {
     "name": "stdout",
     "output_type": "stream",
     "text": [
      "(array([82.41372024]), array([0.43721941]))\n",
      "950\n",
      "950\n",
      "[75986.32688542]\n",
      "[925.81198337]\n",
      "[-39.79390869]\n",
      "-3045.5096277322773\n",
      "950\n",
      "[[82.08533159]\n",
      " [ 0.23261743]]\n",
      "[[82.08533159]]\n",
      "[[0.23261743]]\n",
      "[array([-249.81104528]), array([-167.72571369]), array([-85.64038211]), array([-3.55505052]), array([78.53028107]), array([160.61561265]), array([242.70094424]), array([324.78627583])]\n"
     ]
    }
   ],
   "source": [
    "# This is the cell you need to replace to complete Task 3.\n",
    "# Robustly fit linear model with RANSAC algorithm\n",
    "\n",
    "def calculateLine(p1,p2):\n",
    "    gradient = (p1[1]-p2[1])/(p1[0]-p2[0])\n",
    "    intercept = p1[1]-(gradient*p1[0])\n",
    "    return gradient, intercept\n",
    "\n",
    "\n",
    "#Smallest num points required\n",
    "s=2\n",
    "#Number of iterations needed\n",
    "#Could calculate N using this function\n",
    "#p=0.99\n",
    "#e=0.05\n",
    "#N=(np.log(1-p))/(np.log(1-(1-e)**s))\n",
    "#print(N)\n",
    "#Chosen to use 100 for N given this is the value used by library\n",
    "N=100\n",
    "#Threshhold need to class data point an inlier\n",
    "D=50\n",
    "#Number of points need to consider model a good fit\n",
    "#Could use this T value but opted not to given relatively small dataset so small runtime\n",
    "#T=950\n",
    "\n",
    "bestLine=[0,0]\n",
    "mostInliers=0\n",
    "for n in range(N):\n",
    "    #choose 2 random points\n",
    "    #calculate coefficients of M and C for these points\n",
    "    #loop through all data in X\n",
    "        #calculate Y and test against threshhold\n",
    "        #determine if outlier or inlier\n",
    "        #if num of inliers meets minimum then potential model\n",
    "    temp = int(random.random()*len(X))\n",
    "    a = [X[temp],y[temp]]\n",
    "    temp = int(random.random()*len(X))\n",
    "    b = [X[temp],y[temp]]\n",
    "    line = calculateLine(a,b)\n",
    "    inliers=0\n",
    "    outliers=0\n",
    "    for ix,x in enumerate(X):\n",
    "        expectedY = x*line[0]+line[1]\n",
    "        if((expectedY-y[ix])**2<D**2):\n",
    "            inliers=inliers+1\n",
    "        else:\n",
    "            outliers=outliers+1\n",
    "    if(inliers>mostInliers):\n",
    "        mostInliers = inliers\n",
    "        bestLine = line\n",
    "\n",
    "inlier_mask = []\n",
    "outlier_mask = []\n",
    "line_y_ransac = []\n",
    "final_x = []\n",
    "final_y = []\n",
    "print(bestLine)\n",
    "\n",
    "for ix,x in enumerate(X):\n",
    "    expectedY = x*bestLine[0]+bestLine[1]\n",
    "    if((expectedY-y[ix])**2<D**2):\n",
    "        final_x.append(x)\n",
    "        final_y.append(y[ix])\n",
    "        inlier_mask.append(True)\n",
    "        outlier_mask.append(False)\n",
    "    else:\n",
    "        inlier_mask.append(False)\n",
    "        outlier_mask.append(True)\n",
    "\n",
    "print(len(final_x))\n",
    "print(len(final_y))\n",
    "finalEquation = bestFit(final_x,final_y)       \n",
    "finalM = finalEquation[0].item(0)\n",
    "finalC = finalEquation[1].item(0)\n",
    "\n",
    "\n",
    "\n",
    "for x in line_X:\n",
    "    line_y_ransac.append(x*finalM+finalC)\n",
    "       \n",
    "print(line_y_ransac)"
   ]
  },
  {
   "cell_type": "code",
   "execution_count": 7,
   "metadata": {},
   "outputs": [
    {
     "data": {
      "image/png": "[encoded data removed]",
      "text/plain": [
       "<Figure size 432x288 with 1 Axes>"
      ]
     },
     "metadata": {
      "needs_background": "light"
     },
     "output_type": "display_data"
    }
   ],
   "source": [
    "lw = 2\n",
    "\n",
    "doing_linear = True\n",
    "doing_ransac = True\n",
    "\n",
    "if (doing_linear):\n",
    "    plt.plot(line_X, line_y, color='navy', linewidth=lw, label='Linear regressor')\n",
    "\n",
    "if (doing_ransac):\n",
    "    plt.scatter(X[inlier_mask], y[inlier_mask], color='yellowgreen', marker='.', label='Inliers')\n",
    "    plt.scatter(X[outlier_mask], y[outlier_mask], color='gold', marker='.', label='Outliers')\n",
    "    plt.plot(line_X, line_y_ransac, color='cornflowerblue', linewidth=lw, label='RANSAC regressor')\n",
    "else:\n",
    "    plt.scatter(X, y, color='yellowgreen', marker='.', label='Data')\n",
    "    \n",
    "plt.legend(loc='lower right')\n",
    "plt.xlabel(\"Input\")\n",
    "plt.ylabel(\"Response\")\n",
    "plt.show()"
   ]
  },
  {
   "cell_type": "code",
   "execution_count": null,
   "metadata": {},
   "outputs": [],
   "source": []
  }
 ],
 "metadata": {
  "kernelspec": {
   "display_name": "Python 3",
   "language": "python",
   "name": "python3"
  },
  "language_info": {
   "codemirror_mode": {
    "name": "ipython",
    "version": 3
   },
   "file_extension": ".py",
   "mimetype": "text/x-python",
   "name": "python",
   "nbconvert_exporter": "python",
   "pygments_lexer": "ipython3",
   "version": "3.7.7"
  }
 },
 "nbformat": 4,
 "nbformat_minor": 2
}
